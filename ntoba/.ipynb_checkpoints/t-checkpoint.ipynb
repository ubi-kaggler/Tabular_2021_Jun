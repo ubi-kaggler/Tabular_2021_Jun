{
 "cells": [
  {
   "cell_type": "code",
   "execution_count": null,
   "id": "ecc0e016",
   "metadata": {},
   "outputs": [
    {
     "name": "stdout",
     "output_type": "stream",
     "text": [
      "output=tensor([-0.0086, -0.3493, -0.1065,  ..., -0.3287, -0.2810, -0.1495],\n",
      "       grad_fn=<UnbindBackward>), label=tensor(6)\n",
      "output=tensor([ 0.2298, -0.1842, -0.1171,  ..., -0.5106, -0.3047, -0.4432],\n",
      "       grad_fn=<UnbindBackward>), label=tensor(6)\n",
      "output=tensor([ 0.3407, -0.3011, -0.1563,  ..., -0.5891, -0.1543, -0.1213],\n",
      "       grad_fn=<UnbindBackward>), label=tensor(2)\n"
     ]
    }
   ],
   "source": [
    "import numpy as np\n",
    "from matplotlib import pyplot as plt\n",
    "import pandas as pd\n",
    "from net import Net\n",
    "from torch import nn\n",
    "import torch\n",
    "import re\n",
    "\n",
    "\n",
    "df = pd.read_csv('../data/train.csv')\n",
    "X_train = torch.tensor(df.loc[:, 'feature_0':'feature_74'].values).float()\n",
    "y_train = torch.tensor([int(re.search('[0-9]+', val).group(0)) for val in df['target']])\n",
    "input_features  = X_train.shape[1]\n",
    "hidden_features = input_features // 2\n",
    "output_features = len(set(y_train))\n",
    "net = Net(input_features, hidden_features, output_features)\n",
    "\n",
    "outputs = net(X_train[0:3])\n",
    "for output, label in zip(outputs, y_train):\n",
    "    print(f'{output=}, {label=}')\n",
    "\n",
    "criterion = nn.MSELoss()\n",
    "optimizer = torch.optim.SGD(net.parameters(), lr=0.003)  # 最適化アルゴリズム\n",
    "\n",
    "EPOCHS = 2000\n",
    "print('start epoch')\n",
    "with torch.no_grad():\n",
    "    for epoch in range(EPOCHS):\n",
    "        optimizer.zero_grad()\n",
    "        outputs = net(X_train)\n",
    "        loss = criterion(outputs, y_train)\n",
    "        loss.backward()\n",
    "        optimizer.step()\n",
    "\n",
    "        #if epoch % 100 == 99:\n",
    "        print(f'epoch: {epoch:4}, loss: {loss.data}')\n",
    "\n",
    "print('training finished')"
   ]
  },
  {
   "cell_type": "code",
   "execution_count": null,
   "id": "26c90889",
   "metadata": {},
   "outputs": [],
   "source": []
  }
 ],
 "metadata": {
  "kernelspec": {
   "display_name": "Python 3",
   "language": "python",
   "name": "python3"
  },
  "language_info": {
   "codemirror_mode": {
    "name": "ipython",
    "version": 3
   },
   "file_extension": ".py",
   "mimetype": "text/x-python",
   "name": "python",
   "nbconvert_exporter": "python",
   "pygments_lexer": "ipython3",
   "version": "3.8.5"
  }
 },
 "nbformat": 4,
 "nbformat_minor": 5
}

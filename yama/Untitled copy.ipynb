{
 "cells": [
  {
   "cell_type": "code",
   "execution_count": 24,
   "metadata": {},
   "outputs": [],
   "source": [
    "import numpy as np\n",
    "import pandas as pd"
   ]
  },
  {
   "cell_type": "code",
   "execution_count": 25,
   "metadata": {},
   "outputs": [],
   "source": [
    "train = pd.read_csv('../data/train.csv')\n",
    "test = pd.read_csv('../data/test.csv')"
   ]
  },
  {
   "cell_type": "code",
   "execution_count": 26,
   "metadata": {},
   "outputs": [],
   "source": [
    "train[\"zero_sum\"] = (train.loc[:,\"feature_0\":\"feature_74\"] == 0).sum(axis = 1)\n",
    "train[\"sum\"] = train.loc[:,\"feature_0\":\"feature_74\"].sum(axis = 1)"
   ]
  },
  {
   "cell_type": "code",
   "execution_count": 27,
   "metadata": {},
   "outputs": [],
   "source": [
    "test[\"zero_sum\"] = (test.loc[:,\"feature_0\":\"feature_74\"] == 0).sum(axis = 1)\n",
    "test[\"sum\"] = test.loc[:,\"feature_0\":\"feature_74\"].sum(axis = 1)"
   ]
  },
  {
   "cell_type": "code",
   "execution_count": 28,
   "metadata": {},
   "outputs": [],
   "source": [
    "train = train.drop(columns=['id'])\n",
    "test = test.drop(columns=['id'])"
   ]
  },
  {
   "cell_type": "code",
   "execution_count": 29,
   "metadata": {},
   "outputs": [
    {
     "output_type": "execute_result",
     "data": {
      "text/plain": [
       "   feature_0  feature_1  feature_2  feature_3  feature_4  feature_5  \\\n",
       "0          0          0          6          1          0          0   \n",
       "1          0          0          0          0          0          0   \n",
       "2          0          0          0          0          0          1   \n",
       "3          0          0          7          0          1          5   \n",
       "4          1          0          0          0          0          0   \n",
       "\n",
       "   feature_6  feature_7  feature_8  feature_9  ...  feature_68  feature_69  \\\n",
       "0          0          0          7          0  ...           0           0   \n",
       "1          0          0          0          0  ...           0           0   \n",
       "2          0          3          0          0  ...           0           0   \n",
       "3          2          2          0          1  ...           0           2   \n",
       "4          0          0          0          0  ...           0           0   \n",
       "\n",
       "   feature_70  feature_71  feature_72  feature_73  feature_74   target  \\\n",
       "0           0           0           2           0           0  Class_6   \n",
       "1           0           0           0           1           0  Class_6   \n",
       "2           1           0           0           0           0  Class_2   \n",
       "3           2           0           4           3           0  Class_8   \n",
       "4           0           0           0           0           0  Class_2   \n",
       "\n",
       "   zero_sum  sum  \n",
       "0        55   63  \n",
       "1        68    9  \n",
       "2        53   61  \n",
       "3        39  199  \n",
       "4        68   14  \n",
       "\n",
       "[5 rows x 78 columns]"
      ],
      "text/html": "<div>\n<style scoped>\n    .dataframe tbody tr th:only-of-type {\n        vertical-align: middle;\n    }\n\n    .dataframe tbody tr th {\n        vertical-align: top;\n    }\n\n    .dataframe thead th {\n        text-align: right;\n    }\n</style>\n<table border=\"1\" class=\"dataframe\">\n  <thead>\n    <tr style=\"text-align: right;\">\n      <th></th>\n      <th>feature_0</th>\n      <th>feature_1</th>\n      <th>feature_2</th>\n      <th>feature_3</th>\n      <th>feature_4</th>\n      <th>feature_5</th>\n      <th>feature_6</th>\n      <th>feature_7</th>\n      <th>feature_8</th>\n      <th>feature_9</th>\n      <th>...</th>\n      <th>feature_68</th>\n      <th>feature_69</th>\n      <th>feature_70</th>\n      <th>feature_71</th>\n      <th>feature_72</th>\n      <th>feature_73</th>\n      <th>feature_74</th>\n      <th>target</th>\n      <th>zero_sum</th>\n      <th>sum</th>\n    </tr>\n  </thead>\n  <tbody>\n    <tr>\n      <th>0</th>\n      <td>0</td>\n      <td>0</td>\n      <td>6</td>\n      <td>1</td>\n      <td>0</td>\n      <td>0</td>\n      <td>0</td>\n      <td>0</td>\n      <td>7</td>\n      <td>0</td>\n      <td>...</td>\n      <td>0</td>\n      <td>0</td>\n      <td>0</td>\n      <td>0</td>\n      <td>2</td>\n      <td>0</td>\n      <td>0</td>\n      <td>Class_6</td>\n      <td>55</td>\n      <td>63</td>\n    </tr>\n    <tr>\n      <th>1</th>\n      <td>0</td>\n      <td>0</td>\n      <td>0</td>\n      <td>0</td>\n      <td>0</td>\n      <td>0</td>\n      <td>0</td>\n      <td>0</td>\n      <td>0</td>\n      <td>0</td>\n      <td>...</td>\n      <td>0</td>\n      <td>0</td>\n      <td>0</td>\n      <td>0</td>\n      <td>0</td>\n      <td>1</td>\n      <td>0</td>\n      <td>Class_6</td>\n      <td>68</td>\n      <td>9</td>\n    </tr>\n    <tr>\n      <th>2</th>\n      <td>0</td>\n      <td>0</td>\n      <td>0</td>\n      <td>0</td>\n      <td>0</td>\n      <td>1</td>\n      <td>0</td>\n      <td>3</td>\n      <td>0</td>\n      <td>0</td>\n      <td>...</td>\n      <td>0</td>\n      <td>0</td>\n      <td>1</td>\n      <td>0</td>\n      <td>0</td>\n      <td>0</td>\n      <td>0</td>\n      <td>Class_2</td>\n      <td>53</td>\n      <td>61</td>\n    </tr>\n    <tr>\n      <th>3</th>\n      <td>0</td>\n      <td>0</td>\n      <td>7</td>\n      <td>0</td>\n      <td>1</td>\n      <td>5</td>\n      <td>2</td>\n      <td>2</td>\n      <td>0</td>\n      <td>1</td>\n      <td>...</td>\n      <td>0</td>\n      <td>2</td>\n      <td>2</td>\n      <td>0</td>\n      <td>4</td>\n      <td>3</td>\n      <td>0</td>\n      <td>Class_8</td>\n      <td>39</td>\n      <td>199</td>\n    </tr>\n    <tr>\n      <th>4</th>\n      <td>1</td>\n      <td>0</td>\n      <td>0</td>\n      <td>0</td>\n      <td>0</td>\n      <td>0</td>\n      <td>0</td>\n      <td>0</td>\n      <td>0</td>\n      <td>0</td>\n      <td>...</td>\n      <td>0</td>\n      <td>0</td>\n      <td>0</td>\n      <td>0</td>\n      <td>0</td>\n      <td>0</td>\n      <td>0</td>\n      <td>Class_2</td>\n      <td>68</td>\n      <td>14</td>\n    </tr>\n  </tbody>\n</table>\n<p>5 rows × 78 columns</p>\n</div>"
     },
     "metadata": {},
     "execution_count": 29
    }
   ],
   "source": [
    "train.head()"
   ]
  },
  {
   "cell_type": "code",
   "execution_count": 30,
   "metadata": {},
   "outputs": [],
   "source": [
    "# ランダムアンダーサンプリングやります\n",
    "from imblearn.under_sampling import RandomUnderSampler\n",
    "\n",
    "#ランダムアンダーサンプリング\n",
    "rank_6 = train[\"target\"].value_counts()[0]\n",
    "rank_8 = train[\"target\"].value_counts()[1]\n",
    "rank_9 = train[\"target\"].value_counts()[2]\n",
    "rank_2 = train[\"target\"].value_counts()[3]\n",
    "rank_3 = train[\"target\"].value_counts()[4]\n",
    "rank_7 = train[\"target\"].value_counts()[5]\n",
    "rank_1 = train[\"target\"].value_counts()[6]\n",
    "rank_4 = train[\"target\"].value_counts()[7]\n",
    "rank_5 = train[\"target\"].value_counts()[8]\n",
    "\n",
    "rus = RandomUnderSampler(\n",
    "    sampling_strategy={\"Class_1\": rank_5, \"Class_2\": rank_5,\"Class_3\": rank_5, \"Class_4\": rank_5,\"Class_5\": rank_5, \"Class_6\": rank_5,\"Class_7\": rank_5, \"Class_8\": rank_5,\"Class_9\": rank_5}, random_state=71\n",
    ")\n",
    "\n",
    "\n"
   ]
  },
  {
   "cell_type": "code",
   "execution_count": 31,
   "metadata": {},
   "outputs": [],
   "source": [
    "import missingno as msno\n",
    "# msno.matrix(df=train, figsize=(20,14), color=(0.5,0,0))"
   ]
  },
  {
   "cell_type": "code",
   "execution_count": 32,
   "metadata": {},
   "outputs": [],
   "source": [
    "train_x = train.drop(['target'], axis=1)\n",
    "train_y = train['target']\n",
    "\n",
    "test_x = test.copy()"
   ]
  },
  {
   "cell_type": "code",
   "execution_count": 33,
   "metadata": {},
   "outputs": [
    {
     "output_type": "execute_result",
     "data": {
      "text/plain": [
       "   feature_0  feature_1  feature_2  feature_3  feature_4  feature_5  \\\n",
       "0          0          0          6          1          0          0   \n",
       "1          0          0          0          0          0          0   \n",
       "2          0          0          0          0          0          1   \n",
       "3          0          0          7          0          1          5   \n",
       "4          1          0          0          0          0          0   \n",
       "\n",
       "   feature_6  feature_7  feature_8  feature_9  ...  feature_67  feature_68  \\\n",
       "0          0          0          7          0  ...           0           0   \n",
       "1          0          0          0          0  ...           0           0   \n",
       "2          0          3          0          0  ...           0           0   \n",
       "3          2          2          0          1  ...           4           0   \n",
       "4          0          0          0          0  ...           0           0   \n",
       "\n",
       "   feature_69  feature_70  feature_71  feature_72  feature_73  feature_74  \\\n",
       "0           0           0           0           2           0           0   \n",
       "1           0           0           0           0           1           0   \n",
       "2           0           1           0           0           0           0   \n",
       "3           2           2           0           4           3           0   \n",
       "4           0           0           0           0           0           0   \n",
       "\n",
       "   zero_sum  sum  \n",
       "0        55   63  \n",
       "1        68    9  \n",
       "2        53   61  \n",
       "3        39  199  \n",
       "4        68   14  \n",
       "\n",
       "[5 rows x 77 columns]"
      ],
      "text/html": "<div>\n<style scoped>\n    .dataframe tbody tr th:only-of-type {\n        vertical-align: middle;\n    }\n\n    .dataframe tbody tr th {\n        vertical-align: top;\n    }\n\n    .dataframe thead th {\n        text-align: right;\n    }\n</style>\n<table border=\"1\" class=\"dataframe\">\n  <thead>\n    <tr style=\"text-align: right;\">\n      <th></th>\n      <th>feature_0</th>\n      <th>feature_1</th>\n      <th>feature_2</th>\n      <th>feature_3</th>\n      <th>feature_4</th>\n      <th>feature_5</th>\n      <th>feature_6</th>\n      <th>feature_7</th>\n      <th>feature_8</th>\n      <th>feature_9</th>\n      <th>...</th>\n      <th>feature_67</th>\n      <th>feature_68</th>\n      <th>feature_69</th>\n      <th>feature_70</th>\n      <th>feature_71</th>\n      <th>feature_72</th>\n      <th>feature_73</th>\n      <th>feature_74</th>\n      <th>zero_sum</th>\n      <th>sum</th>\n    </tr>\n  </thead>\n  <tbody>\n    <tr>\n      <th>0</th>\n      <td>0</td>\n      <td>0</td>\n      <td>6</td>\n      <td>1</td>\n      <td>0</td>\n      <td>0</td>\n      <td>0</td>\n      <td>0</td>\n      <td>7</td>\n      <td>0</td>\n      <td>...</td>\n      <td>0</td>\n      <td>0</td>\n      <td>0</td>\n      <td>0</td>\n      <td>0</td>\n      <td>2</td>\n      <td>0</td>\n      <td>0</td>\n      <td>55</td>\n      <td>63</td>\n    </tr>\n    <tr>\n      <th>1</th>\n      <td>0</td>\n      <td>0</td>\n      <td>0</td>\n      <td>0</td>\n      <td>0</td>\n      <td>0</td>\n      <td>0</td>\n      <td>0</td>\n      <td>0</td>\n      <td>0</td>\n      <td>...</td>\n      <td>0</td>\n      <td>0</td>\n      <td>0</td>\n      <td>0</td>\n      <td>0</td>\n      <td>0</td>\n      <td>1</td>\n      <td>0</td>\n      <td>68</td>\n      <td>9</td>\n    </tr>\n    <tr>\n      <th>2</th>\n      <td>0</td>\n      <td>0</td>\n      <td>0</td>\n      <td>0</td>\n      <td>0</td>\n      <td>1</td>\n      <td>0</td>\n      <td>3</td>\n      <td>0</td>\n      <td>0</td>\n      <td>...</td>\n      <td>0</td>\n      <td>0</td>\n      <td>0</td>\n      <td>1</td>\n      <td>0</td>\n      <td>0</td>\n      <td>0</td>\n      <td>0</td>\n      <td>53</td>\n      <td>61</td>\n    </tr>\n    <tr>\n      <th>3</th>\n      <td>0</td>\n      <td>0</td>\n      <td>7</td>\n      <td>0</td>\n      <td>1</td>\n      <td>5</td>\n      <td>2</td>\n      <td>2</td>\n      <td>0</td>\n      <td>1</td>\n      <td>...</td>\n      <td>4</td>\n      <td>0</td>\n      <td>2</td>\n      <td>2</td>\n      <td>0</td>\n      <td>4</td>\n      <td>3</td>\n      <td>0</td>\n      <td>39</td>\n      <td>199</td>\n    </tr>\n    <tr>\n      <th>4</th>\n      <td>1</td>\n      <td>0</td>\n      <td>0</td>\n      <td>0</td>\n      <td>0</td>\n      <td>0</td>\n      <td>0</td>\n      <td>0</td>\n      <td>0</td>\n      <td>0</td>\n      <td>...</td>\n      <td>0</td>\n      <td>0</td>\n      <td>0</td>\n      <td>0</td>\n      <td>0</td>\n      <td>0</td>\n      <td>0</td>\n      <td>0</td>\n      <td>68</td>\n      <td>14</td>\n    </tr>\n  </tbody>\n</table>\n<p>5 rows × 77 columns</p>\n</div>"
     },
     "metadata": {},
     "execution_count": 33
    }
   ],
   "source": [
    "train_x.head()"
   ]
  },
  {
   "cell_type": "code",
   "execution_count": 34,
   "metadata": {},
   "outputs": [
    {
     "output_type": "execute_result",
     "data": {
      "text/plain": [
       "0    Class_6\n",
       "1    Class_6\n",
       "2    Class_2\n",
       "3    Class_8\n",
       "4    Class_2\n",
       "Name: target, dtype: object"
      ]
     },
     "metadata": {},
     "execution_count": 34
    }
   ],
   "source": [
    "train_y.head()"
   ]
  },
  {
   "cell_type": "code",
   "execution_count": 35,
   "metadata": {},
   "outputs": [],
   "source": [
    "##train_x, train_y = rus.fit_resample(train_x, train_y)"
   ]
  },
  {
   "cell_type": "code",
   "execution_count": 36,
   "metadata": {},
   "outputs": [],
   "source": [
    "from sklearn import preprocessing\n",
    "le = preprocessing.LabelEncoder()\n",
    "le.fit(train_y)\n",
    "train_y = le.transform(train_y)\n",
    "train_y = pd.Series(train_y)"
   ]
  },
  {
   "cell_type": "code",
   "execution_count": 37,
   "metadata": {},
   "outputs": [
    {
     "output_type": "execute_result",
     "data": {
      "text/plain": [
       "0    5\n",
       "1    5\n",
       "2    1\n",
       "3    7\n",
       "4    1\n",
       "dtype: int64"
      ]
     },
     "metadata": {},
     "execution_count": 37
    }
   ],
   "source": [
    "train_y.head()"
   ]
  },
  {
   "cell_type": "code",
   "execution_count": 38,
   "metadata": {},
   "outputs": [],
   "source": [
    "import lightgbm as lgb\n",
    "#import optuna.integration.lightgbm as lgb\n",
    "from sklearn.metrics import log_loss"
   ]
  },
  {
   "cell_type": "code",
   "execution_count": 39,
   "metadata": {},
   "outputs": [],
   "source": [
    "from sklearn.model_selection import train_test_split\n",
    "tr_x, va_x, tr_y, va_y = train_test_split(train_x, train_y, test_size=0.2, shuffle=True, random_state=42, stratify=train_y) \n",
    "\n",
    "lgb_train = lgb.Dataset(tr_x, tr_y)\n",
    "lgb_eval = lgb.Dataset(va_x, va_y)\n",
    "\n",
    "params = {'objective': 'multiclass',\n",
    "                  #'random_state': 10,\n",
    "                  'metric': 'multi_logloss',\n",
    "             'num_class': 9,\n",
    "             'force_row_wise' :True}\n",
    "\n",
    "params2 = {'objective': 'multiclass',\n",
    " 'metric': 'multi_logloss',\n",
    " #'boosting_type':\"dart\",\n",
    " 'num_class': 9,\n",
    " 'force_row_wise': True,\n",
    " 'feature_pre_filter': False,\n",
    " 'lambda_l1': 9.743033661523311,\n",
    " 'lambda_l2': 2.709400532224499e-07,\n",
    " 'num_leaves': 33,\n",
    " 'feature_fraction': 0.4,\n",
    " 'bagging_fraction': 1.0,\n",
    " 'bagging_freq': 0,\n",
    " 'min_child_samples': 100,\n",
    " 'num_iterations': 50,\n",
    " 'early_stopping_round': 5}\n"
   ]
  },
  {
   "cell_type": "code",
   "execution_count": 40,
   "metadata": {
    "tags": []
   },
   "outputs": [
    {
     "output_type": "stream",
     "name": "stderr",
     "text": [
      "/Users/tokimune-i/.pyenv/versions/anaconda3-2020.11/lib/python3.8/site-packages/lightgbm/engine.py:148: UserWarning: Found `num_iterations` in params. Will use it instead of argument\n",
      "  _log_warning(\"Found `{}` in params. Will use it instead of argument\".format(alias))\n",
      "/Users/tokimune-i/.pyenv/versions/anaconda3-2020.11/lib/python3.8/site-packages/lightgbm/engine.py:153: UserWarning: Found `early_stopping_round` in params. Will use it instead of argument\n",
      "  _log_warning(\"Found `{}` in params. Will use it instead of argument\".format(alias))\n",
      "[LightGBM] [Info] Total Bins 3609\n",
      "[LightGBM] [Info] Number of data points in the train set: 160000, number of used features: 77\n",
      "[LightGBM] [Info] Start training from score -3.088122\n",
      "[LightGBM] [Info] Start training from score -2.102454\n",
      "[LightGBM] [Info] Start training from score -2.603859\n",
      "[LightGBM] [Info] Start training from score -3.749957\n",
      "[LightGBM] [Info] Start training from score -4.178678\n",
      "[LightGBM] [Info] Start training from score -1.350710\n",
      "[LightGBM] [Info] Start training from score -2.605804\n",
      "[LightGBM] [Info] Start training from score -1.351627\n",
      "[LightGBM] [Info] Start training from score -2.057974\n"
     ]
    }
   ],
   "source": [
    "best_params, history = {}, []\n",
    "# train\n",
    "model = lgb.train(params2,\n",
    "            lgb_train,\n",
    "            verbose_eval=False,\n",
    "            early_stopping_rounds=10,\n",
    "            num_boost_round=100,\n",
    "            valid_names=['train', 'valid'], \n",
    "            valid_sets=[lgb_train, lgb_eval])"
   ]
  },
  {
   "cell_type": "code",
   "execution_count": 41,
   "metadata": {},
   "outputs": [
    {
     "output_type": "stream",
     "name": "stdout",
     "text": [
      "logloss: 1.7474\n"
     ]
    }
   ],
   "source": [
    "va_pred = model.predict(va_x)\n",
    "score = log_loss(va_y, va_pred)\n",
    "print(f'logloss: {score:.4f}')"
   ]
  },
  {
   "cell_type": "code",
   "execution_count": 42,
   "metadata": {},
   "outputs": [
    {
     "output_type": "stream",
     "name": "stdout",
     "text": [
      "100000\n"
     ]
    }
   ],
   "source": [
    "pred = model.predict(test_x)\n",
    "print(len(pred))"
   ]
  },
  {
   "cell_type": "code",
   "execution_count": 43,
   "metadata": {},
   "outputs": [
    {
     "output_type": "execute_result",
     "data": {
      "text/plain": [
       "{'objective': 'multiclass',\n",
       " 'metric': 'multi_logloss',\n",
       " 'num_class': 9,\n",
       " 'force_row_wise': True,\n",
       " 'feature_pre_filter': False,\n",
       " 'lambda_l1': 9.743033661523311,\n",
       " 'lambda_l2': 2.709400532224499e-07,\n",
       " 'num_leaves': 33,\n",
       " 'feature_fraction': 0.4,\n",
       " 'bagging_fraction': 1.0,\n",
       " 'bagging_freq': 0,\n",
       " 'min_child_samples': 100,\n",
       " 'num_iterations': 50,\n",
       " 'early_stopping_round': 5}"
      ]
     },
     "metadata": {},
     "execution_count": 43
    }
   ],
   "source": [
    "model.params"
   ]
  },
  {
   "cell_type": "code",
   "execution_count": 44,
   "metadata": {},
   "outputs": [
    {
     "output_type": "stream",
     "name": "stdout",
     "text": [
      "csv output\n"
     ]
    }
   ],
   "source": [
    "submission = pd.DataFrame({'id': list(range(200000,300001))})\n",
    "pred = pd.DataFrame(pred,columns =[\"Class_1\",\"Class_2\",\"Class_3\",\"Class_4\",\"Class_5\",\"Class_6\",\"Class_7\",\"Class_8\",\"Class_9\"])\n",
    "submission = pd.merge(submission,pred,left_index=True, right_index=True)\n",
    "submission.to_csv('./sample_submission.csv', index=False)\n",
    "print('csv output')"
   ]
  },
  {
   "cell_type": "code",
   "execution_count": 45,
   "metadata": {},
   "outputs": [
    {
     "output_type": "execute_result",
     "data": {
      "text/plain": [
       "           feature_0      feature_1      feature_2      feature_3  \\\n",
       "count  200000.000000  200000.000000  200000.000000  200000.000000   \n",
       "mean        0.972710       1.168365       2.219325       2.296735   \n",
       "std         3.941836       3.993407       6.476570       7.551858   \n",
       "min         0.000000       0.000000       0.000000       0.000000   \n",
       "25%         0.000000       0.000000       0.000000       0.000000   \n",
       "50%         0.000000       0.000000       0.000000       0.000000   \n",
       "75%         1.000000       1.000000       1.000000       1.000000   \n",
       "max        61.000000      51.000000      64.000000      70.000000   \n",
       "\n",
       "           feature_4      feature_5      feature_6      feature_7  \\\n",
       "count  200000.000000  200000.000000  200000.000000  200000.000000   \n",
       "mean        0.793530       1.431105       1.010695       0.673090   \n",
       "std         2.935785       5.162746       3.949231       2.234949   \n",
       "min         0.000000       0.000000       0.000000       0.000000   \n",
       "25%         0.000000       0.000000       0.000000       0.000000   \n",
       "50%         0.000000       0.000000       0.000000       0.000000   \n",
       "75%         0.000000       1.000000       0.000000       0.000000   \n",
       "max        38.000000      76.000000      43.000000      30.000000   \n",
       "\n",
       "          feature_8      feature_9  ...     feature_67     feature_68  \\\n",
       "count  200000.00000  200000.000000  ...  200000.000000  200000.000000   \n",
       "mean        1.94398       1.719655  ...       1.827300       0.910370   \n",
       "std         3.93133       5.916988  ...       7.188924       3.835182   \n",
       "min         0.00000       0.000000  ...       0.000000       0.000000   \n",
       "25%         0.00000       0.000000  ...       0.000000       0.000000   \n",
       "50%         0.00000       0.000000  ...       0.000000       0.000000   \n",
       "75%         2.00000       1.000000  ...       1.000000       1.000000   \n",
       "max        38.00000      72.000000  ...      79.000000      55.000000   \n",
       "\n",
       "          feature_69     feature_70     feature_71     feature_72  \\\n",
       "count  200000.000000  200000.000000  200000.000000  200000.000000   \n",
       "mean        1.603585       1.219210       0.806895       1.282925   \n",
       "std         4.877679       4.826003       2.458741       4.261420   \n",
       "min         0.000000       0.000000       0.000000       0.000000   \n",
       "25%         0.000000       0.000000       0.000000       0.000000   \n",
       "50%         0.000000       0.000000       0.000000       0.000000   \n",
       "75%         2.000000       1.000000       1.000000       1.000000   \n",
       "max        65.000000      67.000000      30.000000      61.000000   \n",
       "\n",
       "         feature_73     feature_74       zero_sum            sum  \n",
       "count  200000.00000  200000.000000  200000.000000  200000.000000  \n",
       "mean        2.94021       0.632005      48.480265     114.480485  \n",
       "std        10.78465       3.925310      12.547859     106.166522  \n",
       "min         0.00000       0.000000       7.000000       0.000000  \n",
       "25%         0.00000       0.000000      39.000000      41.000000  \n",
       "50%         0.00000       0.000000      49.000000      81.000000  \n",
       "75%         1.00000       0.000000      59.000000     153.000000  \n",
       "max       130.00000      52.000000      75.000000    1098.000000  \n",
       "\n",
       "[8 rows x 77 columns]"
      ],
      "text/html": "<div>\n<style scoped>\n    .dataframe tbody tr th:only-of-type {\n        vertical-align: middle;\n    }\n\n    .dataframe tbody tr th {\n        vertical-align: top;\n    }\n\n    .dataframe thead th {\n        text-align: right;\n    }\n</style>\n<table border=\"1\" class=\"dataframe\">\n  <thead>\n    <tr style=\"text-align: right;\">\n      <th></th>\n      <th>feature_0</th>\n      <th>feature_1</th>\n      <th>feature_2</th>\n      <th>feature_3</th>\n      <th>feature_4</th>\n      <th>feature_5</th>\n      <th>feature_6</th>\n      <th>feature_7</th>\n      <th>feature_8</th>\n      <th>feature_9</th>\n      <th>...</th>\n      <th>feature_67</th>\n      <th>feature_68</th>\n      <th>feature_69</th>\n      <th>feature_70</th>\n      <th>feature_71</th>\n      <th>feature_72</th>\n      <th>feature_73</th>\n      <th>feature_74</th>\n      <th>zero_sum</th>\n      <th>sum</th>\n    </tr>\n  </thead>\n  <tbody>\n    <tr>\n      <th>count</th>\n      <td>200000.000000</td>\n      <td>200000.000000</td>\n      <td>200000.000000</td>\n      <td>200000.000000</td>\n      <td>200000.000000</td>\n      <td>200000.000000</td>\n      <td>200000.000000</td>\n      <td>200000.000000</td>\n      <td>200000.00000</td>\n      <td>200000.000000</td>\n      <td>...</td>\n      <td>200000.000000</td>\n      <td>200000.000000</td>\n      <td>200000.000000</td>\n      <td>200000.000000</td>\n      <td>200000.000000</td>\n      <td>200000.000000</td>\n      <td>200000.00000</td>\n      <td>200000.000000</td>\n      <td>200000.000000</td>\n      <td>200000.000000</td>\n    </tr>\n    <tr>\n      <th>mean</th>\n      <td>0.972710</td>\n      <td>1.168365</td>\n      <td>2.219325</td>\n      <td>2.296735</td>\n      <td>0.793530</td>\n      <td>1.431105</td>\n      <td>1.010695</td>\n      <td>0.673090</td>\n      <td>1.94398</td>\n      <td>1.719655</td>\n      <td>...</td>\n      <td>1.827300</td>\n      <td>0.910370</td>\n      <td>1.603585</td>\n      <td>1.219210</td>\n      <td>0.806895</td>\n      <td>1.282925</td>\n      <td>2.94021</td>\n      <td>0.632005</td>\n      <td>48.480265</td>\n      <td>114.480485</td>\n    </tr>\n    <tr>\n      <th>std</th>\n      <td>3.941836</td>\n      <td>3.993407</td>\n      <td>6.476570</td>\n      <td>7.551858</td>\n      <td>2.935785</td>\n      <td>5.162746</td>\n      <td>3.949231</td>\n      <td>2.234949</td>\n      <td>3.93133</td>\n      <td>5.916988</td>\n      <td>...</td>\n      <td>7.188924</td>\n      <td>3.835182</td>\n      <td>4.877679</td>\n      <td>4.826003</td>\n      <td>2.458741</td>\n      <td>4.261420</td>\n      <td>10.78465</td>\n      <td>3.925310</td>\n      <td>12.547859</td>\n      <td>106.166522</td>\n    </tr>\n    <tr>\n      <th>min</th>\n      <td>0.000000</td>\n      <td>0.000000</td>\n      <td>0.000000</td>\n      <td>0.000000</td>\n      <td>0.000000</td>\n      <td>0.000000</td>\n      <td>0.000000</td>\n      <td>0.000000</td>\n      <td>0.00000</td>\n      <td>0.000000</td>\n      <td>...</td>\n      <td>0.000000</td>\n      <td>0.000000</td>\n      <td>0.000000</td>\n      <td>0.000000</td>\n      <td>0.000000</td>\n      <td>0.000000</td>\n      <td>0.00000</td>\n      <td>0.000000</td>\n      <td>7.000000</td>\n      <td>0.000000</td>\n    </tr>\n    <tr>\n      <th>25%</th>\n      <td>0.000000</td>\n      <td>0.000000</td>\n      <td>0.000000</td>\n      <td>0.000000</td>\n      <td>0.000000</td>\n      <td>0.000000</td>\n      <td>0.000000</td>\n      <td>0.000000</td>\n      <td>0.00000</td>\n      <td>0.000000</td>\n      <td>...</td>\n      <td>0.000000</td>\n      <td>0.000000</td>\n      <td>0.000000</td>\n      <td>0.000000</td>\n      <td>0.000000</td>\n      <td>0.000000</td>\n      <td>0.00000</td>\n      <td>0.000000</td>\n      <td>39.000000</td>\n      <td>41.000000</td>\n    </tr>\n    <tr>\n      <th>50%</th>\n      <td>0.000000</td>\n      <td>0.000000</td>\n      <td>0.000000</td>\n      <td>0.000000</td>\n      <td>0.000000</td>\n      <td>0.000000</td>\n      <td>0.000000</td>\n      <td>0.000000</td>\n      <td>0.00000</td>\n      <td>0.000000</td>\n      <td>...</td>\n      <td>0.000000</td>\n      <td>0.000000</td>\n      <td>0.000000</td>\n      <td>0.000000</td>\n      <td>0.000000</td>\n      <td>0.000000</td>\n      <td>0.00000</td>\n      <td>0.000000</td>\n      <td>49.000000</td>\n      <td>81.000000</td>\n    </tr>\n    <tr>\n      <th>75%</th>\n      <td>1.000000</td>\n      <td>1.000000</td>\n      <td>1.000000</td>\n      <td>1.000000</td>\n      <td>0.000000</td>\n      <td>1.000000</td>\n      <td>0.000000</td>\n      <td>0.000000</td>\n      <td>2.00000</td>\n      <td>1.000000</td>\n      <td>...</td>\n      <td>1.000000</td>\n      <td>1.000000</td>\n      <td>2.000000</td>\n      <td>1.000000</td>\n      <td>1.000000</td>\n      <td>1.000000</td>\n      <td>1.00000</td>\n      <td>0.000000</td>\n      <td>59.000000</td>\n      <td>153.000000</td>\n    </tr>\n    <tr>\n      <th>max</th>\n      <td>61.000000</td>\n      <td>51.000000</td>\n      <td>64.000000</td>\n      <td>70.000000</td>\n      <td>38.000000</td>\n      <td>76.000000</td>\n      <td>43.000000</td>\n      <td>30.000000</td>\n      <td>38.00000</td>\n      <td>72.000000</td>\n      <td>...</td>\n      <td>79.000000</td>\n      <td>55.000000</td>\n      <td>65.000000</td>\n      <td>67.000000</td>\n      <td>30.000000</td>\n      <td>61.000000</td>\n      <td>130.00000</td>\n      <td>52.000000</td>\n      <td>75.000000</td>\n      <td>1098.000000</td>\n    </tr>\n  </tbody>\n</table>\n<p>8 rows × 77 columns</p>\n</div>"
     },
     "metadata": {},
     "execution_count": 45
    }
   ],
   "source": [
    "train.describe()"
   ]
  },
  {
   "cell_type": "code",
   "execution_count": 46,
   "metadata": {},
   "outputs": [
    {
     "output_type": "execute_result",
     "data": {
      "text/plain": [
       "0     146389\n",
       "1      24536\n",
       "2      10197\n",
       "3       6651\n",
       "4       3580\n",
       "5       3079\n",
       "6       1751\n",
       "7        671\n",
       "8        349\n",
       "34       144\n",
       "29       140\n",
       "20       130\n",
       "40       129\n",
       "32       113\n",
       "61       110\n",
       "9        106\n",
       "37       102\n",
       "56       100\n",
       "42        95\n",
       "47        88\n",
       "27        87\n",
       "12        87\n",
       "48        83\n",
       "24        81\n",
       "39        78\n",
       "31        76\n",
       "15        76\n",
       "30        73\n",
       "10        71\n",
       "21        70\n",
       "16        70\n",
       "22        68\n",
       "14        67\n",
       "43        66\n",
       "25        66\n",
       "19        64\n",
       "11        63\n",
       "28        63\n",
       "13        63\n",
       "17        57\n",
       "26        56\n",
       "23        55\n",
       "Name: feature_0, dtype: int64"
      ]
     },
     "metadata": {},
     "execution_count": 46
    }
   ],
   "source": [
    "train['feature_0'].value_counts()"
   ]
  },
  {
   "cell_type": "code",
   "execution_count": 47,
   "metadata": {},
   "outputs": [
    {
     "output_type": "execute_result",
     "data": {
      "text/plain": [
       "5    51811\n",
       "7    51763\n",
       "8    25542\n",
       "1    24431\n",
       "2    14798\n",
       "6    14769\n",
       "0     9118\n",
       "3     4704\n",
       "4     3064\n",
       "dtype: int64"
      ]
     },
     "metadata": {},
     "execution_count": 47
    }
   ],
   "source": [
    "train_y.value_counts()"
   ]
  },
  {
   "cell_type": "code",
   "execution_count": 49,
   "metadata": {},
   "outputs": [
    {
     "output_type": "execute_result",
     "data": {
      "text/plain": [
       "5    51811\n",
       "7    51763\n",
       "8    25542\n",
       "1    24431\n",
       "2    14798\n",
       "6    14769\n",
       "0     9118\n",
       "3     4704\n",
       "4     3064\n",
       "dtype: int64"
      ]
     },
     "metadata": {},
     "execution_count": 49
    }
   ],
   "source": [
    "train_y.value_counts()"
   ]
  }
 ],
 "metadata": {
  "kernelspec": {
   "name": "python385jvsc74a57bd0b8c7b7f772b24e9fa09ee0d2f7d053124da7a68f5f2ccab04a54851d092ebd61",
   "display_name": "Python 3.8.5 64-bit ('anaconda3-2020.11': pyenv)"
  },
  "language_info": {
   "codemirror_mode": {
    "name": "ipython",
    "version": 3
   },
   "file_extension": ".py",
   "mimetype": "text/x-python",
   "name": "python",
   "nbconvert_exporter": "python",
   "pygments_lexer": "ipython3",
   "version": "3.8.5"
  }
 },
 "nbformat": 4,
 "nbformat_minor": 4
}
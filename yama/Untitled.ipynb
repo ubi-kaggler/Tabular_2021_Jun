{
 "cells": [
  {
   "cell_type": "code",
   "execution_count": 64,
   "metadata": {},
   "outputs": [],
   "source": [
    "import numpy as np\n",
    "import pandas as pd"
   ]
  },
  {
   "cell_type": "code",
   "execution_count": 65,
   "metadata": {},
   "outputs": [],
   "source": [
    "train = pd.read_csv('../data/train.csv')\n",
    "test = pd.read_csv('../data/test.csv')"
   ]
  },
  {
   "cell_type": "code",
   "execution_count": 66,
   "metadata": {},
   "outputs": [],
   "source": [
    "train = train.drop(columns=['id'])\n",
    "test = test.drop(columns=['id'])"
   ]
  },
  {
   "cell_type": "code",
   "execution_count": 67,
   "metadata": {},
   "outputs": [
    {
     "output_type": "execute_result",
     "data": {
      "text/plain": [
       "   feature_0  feature_1  feature_2  feature_3  feature_4  feature_5  \\\n",
       "0          0          0          6          1          0          0   \n",
       "1          0          0          0          0          0          0   \n",
       "2          0          0          0          0          0          1   \n",
       "3          0          0          7          0          1          5   \n",
       "4          1          0          0          0          0          0   \n",
       "\n",
       "   feature_6  feature_7  feature_8  feature_9  ...  feature_66  feature_67  \\\n",
       "0          0          0          7          0  ...           0           0   \n",
       "1          0          0          0          0  ...           2           0   \n",
       "2          0          3          0          0  ...           0           0   \n",
       "3          2          2          0          1  ...           0           4   \n",
       "4          0          0          0          0  ...           0           0   \n",
       "\n",
       "   feature_68  feature_69  feature_70  feature_71  feature_72  feature_73  \\\n",
       "0           0           0           0           0           2           0   \n",
       "1           0           0           0           0           0           1   \n",
       "2           0           0           1           0           0           0   \n",
       "3           0           2           2           0           4           3   \n",
       "4           0           0           0           0           0           0   \n",
       "\n",
       "   feature_74   target  \n",
       "0           0  Class_6  \n",
       "1           0  Class_6  \n",
       "2           0  Class_2  \n",
       "3           0  Class_8  \n",
       "4           0  Class_2  \n",
       "\n",
       "[5 rows x 76 columns]"
      ],
      "text/html": "<div>\n<style scoped>\n    .dataframe tbody tr th:only-of-type {\n        vertical-align: middle;\n    }\n\n    .dataframe tbody tr th {\n        vertical-align: top;\n    }\n\n    .dataframe thead th {\n        text-align: right;\n    }\n</style>\n<table border=\"1\" class=\"dataframe\">\n  <thead>\n    <tr style=\"text-align: right;\">\n      <th></th>\n      <th>feature_0</th>\n      <th>feature_1</th>\n      <th>feature_2</th>\n      <th>feature_3</th>\n      <th>feature_4</th>\n      <th>feature_5</th>\n      <th>feature_6</th>\n      <th>feature_7</th>\n      <th>feature_8</th>\n      <th>feature_9</th>\n      <th>...</th>\n      <th>feature_66</th>\n      <th>feature_67</th>\n      <th>feature_68</th>\n      <th>feature_69</th>\n      <th>feature_70</th>\n      <th>feature_71</th>\n      <th>feature_72</th>\n      <th>feature_73</th>\n      <th>feature_74</th>\n      <th>target</th>\n    </tr>\n  </thead>\n  <tbody>\n    <tr>\n      <th>0</th>\n      <td>0</td>\n      <td>0</td>\n      <td>6</td>\n      <td>1</td>\n      <td>0</td>\n      <td>0</td>\n      <td>0</td>\n      <td>0</td>\n      <td>7</td>\n      <td>0</td>\n      <td>...</td>\n      <td>0</td>\n      <td>0</td>\n      <td>0</td>\n      <td>0</td>\n      <td>0</td>\n      <td>0</td>\n      <td>2</td>\n      <td>0</td>\n      <td>0</td>\n      <td>Class_6</td>\n    </tr>\n    <tr>\n      <th>1</th>\n      <td>0</td>\n      <td>0</td>\n      <td>0</td>\n      <td>0</td>\n      <td>0</td>\n      <td>0</td>\n      <td>0</td>\n      <td>0</td>\n      <td>0</td>\n      <td>0</td>\n      <td>...</td>\n      <td>2</td>\n      <td>0</td>\n      <td>0</td>\n      <td>0</td>\n      <td>0</td>\n      <td>0</td>\n      <td>0</td>\n      <td>1</td>\n      <td>0</td>\n      <td>Class_6</td>\n    </tr>\n    <tr>\n      <th>2</th>\n      <td>0</td>\n      <td>0</td>\n      <td>0</td>\n      <td>0</td>\n      <td>0</td>\n      <td>1</td>\n      <td>0</td>\n      <td>3</td>\n      <td>0</td>\n      <td>0</td>\n      <td>...</td>\n      <td>0</td>\n      <td>0</td>\n      <td>0</td>\n      <td>0</td>\n      <td>1</td>\n      <td>0</td>\n      <td>0</td>\n      <td>0</td>\n      <td>0</td>\n      <td>Class_2</td>\n    </tr>\n    <tr>\n      <th>3</th>\n      <td>0</td>\n      <td>0</td>\n      <td>7</td>\n      <td>0</td>\n      <td>1</td>\n      <td>5</td>\n      <td>2</td>\n      <td>2</td>\n      <td>0</td>\n      <td>1</td>\n      <td>...</td>\n      <td>0</td>\n      <td>4</td>\n      <td>0</td>\n      <td>2</td>\n      <td>2</td>\n      <td>0</td>\n      <td>4</td>\n      <td>3</td>\n      <td>0</td>\n      <td>Class_8</td>\n    </tr>\n    <tr>\n      <th>4</th>\n      <td>1</td>\n      <td>0</td>\n      <td>0</td>\n      <td>0</td>\n      <td>0</td>\n      <td>0</td>\n      <td>0</td>\n      <td>0</td>\n      <td>0</td>\n      <td>0</td>\n      <td>...</td>\n      <td>0</td>\n      <td>0</td>\n      <td>0</td>\n      <td>0</td>\n      <td>0</td>\n      <td>0</td>\n      <td>0</td>\n      <td>0</td>\n      <td>0</td>\n      <td>Class_2</td>\n    </tr>\n  </tbody>\n</table>\n<p>5 rows × 76 columns</p>\n</div>"
     },
     "metadata": {},
     "execution_count": 67
    }
   ],
   "source": [
    "train.head()"
   ]
  },
  {
   "cell_type": "code",
   "execution_count": 68,
   "metadata": {},
   "outputs": [],
   "source": [
    "# ランダムアンダーサンプリングやります\n",
    "from imblearn.under_sampling import RandomUnderSampler\n",
    "\n",
    "#ランダムアンダーサンプリング\n",
    "rank_5 = train[\"target\"].value_counts()[8]\n",
    "\n",
    "rus = RandomUnderSampler(\n",
    "    sampling_strategy={\"Class_1\": rank_5, \"Class_2\": rank_5,\"Class_3\": rank_5, \"Class_4\": rank_5,\"Class_5\": rank_5, \"Class_6\": rank_5,\"Class_7\": rank_5, \"Class_8\": rank_5,\"Class_9\": rank_5}, random_state=71\n",
    ")\n",
    "\n",
    "\n"
   ]
  },
  {
   "cell_type": "code",
   "execution_count": 103,
   "metadata": {},
   "outputs": [],
   "source": [
    "from sklearn import preprocessing\n",
    "#ランダムアンダーサンプリング\n",
    "def UnderSampleFunction(seed):\n",
    "    print(seed)\n",
    "    rank_5 = train[\"target\"].value_counts()[8]\n",
    "\n",
    "    rus = RandomUnderSampler(\n",
    "        sampling_strategy={\"Class_1\": rank_5, \"Class_2\": rank_5,\"Class_3\": rank_5, \"Class_4\": rank_5,\"Class_5\": rank_5, \"Class_6\": rank_5,\"Class_7\": rank_5, \"Class_8\": rank_5,\"Class_9\": rank_5}, random_state=seed\n",
    "    )\n",
    "\n",
    "    train_x = train.drop(['target'], axis=1)\n",
    "    train_y = train['target']\n",
    "\n",
    "    test_x = test.copy()\n",
    "\n",
    "    \n",
    "    le = preprocessing.LabelEncoder()\n",
    "    le.fit(train_y)\n",
    "    train_y = le.transform(train_y)\n",
    "    train_y = pd.Series(train_y)\n",
    "\n",
    "    lgb_train = lgb.Dataset(tr_x, tr_y)\n",
    "    lgb_eval = lgb.Dataset(va_x, va_y)\n",
    "\n",
    "    return lgb_train, lgb_eval"
   ]
  },
  {
   "cell_type": "code",
   "execution_count": 70,
   "metadata": {},
   "outputs": [],
   "source": [
    "import missingno as msno\n",
    "# msno.matrix(df=train, figsize=(20,14), color=(0.5,0,0))"
   ]
  },
  {
   "cell_type": "code",
   "execution_count": 71,
   "metadata": {},
   "outputs": [],
   "source": [
    "train_x = train.drop(['target'], axis=1)\n",
    "train_y = train['target']\n",
    "\n",
    "test_x = test.copy()"
   ]
  },
  {
   "cell_type": "code",
   "execution_count": 72,
   "metadata": {},
   "outputs": [
    {
     "output_type": "execute_result",
     "data": {
      "text/plain": [
       "   feature_0  feature_1  feature_2  feature_3  feature_4  feature_5  \\\n",
       "0          0          0          6          1          0          0   \n",
       "1          0          0          0          0          0          0   \n",
       "2          0          0          0          0          0          1   \n",
       "3          0          0          7          0          1          5   \n",
       "4          1          0          0          0          0          0   \n",
       "\n",
       "   feature_6  feature_7  feature_8  feature_9  ...  feature_65  feature_66  \\\n",
       "0          0          0          7          0  ...           3           0   \n",
       "1          0          0          0          0  ...           0           2   \n",
       "2          0          3          0          0  ...           8           0   \n",
       "3          2          2          0          1  ...           0           0   \n",
       "4          0          0          0          0  ...           0           0   \n",
       "\n",
       "   feature_67  feature_68  feature_69  feature_70  feature_71  feature_72  \\\n",
       "0           0           0           0           0           0           2   \n",
       "1           0           0           0           0           0           0   \n",
       "2           0           0           0           1           0           0   \n",
       "3           4           0           2           2           0           4   \n",
       "4           0           0           0           0           0           0   \n",
       "\n",
       "   feature_73  feature_74  \n",
       "0           0           0  \n",
       "1           1           0  \n",
       "2           0           0  \n",
       "3           3           0  \n",
       "4           0           0  \n",
       "\n",
       "[5 rows x 75 columns]"
      ],
      "text/html": "<div>\n<style scoped>\n    .dataframe tbody tr th:only-of-type {\n        vertical-align: middle;\n    }\n\n    .dataframe tbody tr th {\n        vertical-align: top;\n    }\n\n    .dataframe thead th {\n        text-align: right;\n    }\n</style>\n<table border=\"1\" class=\"dataframe\">\n  <thead>\n    <tr style=\"text-align: right;\">\n      <th></th>\n      <th>feature_0</th>\n      <th>feature_1</th>\n      <th>feature_2</th>\n      <th>feature_3</th>\n      <th>feature_4</th>\n      <th>feature_5</th>\n      <th>feature_6</th>\n      <th>feature_7</th>\n      <th>feature_8</th>\n      <th>feature_9</th>\n      <th>...</th>\n      <th>feature_65</th>\n      <th>feature_66</th>\n      <th>feature_67</th>\n      <th>feature_68</th>\n      <th>feature_69</th>\n      <th>feature_70</th>\n      <th>feature_71</th>\n      <th>feature_72</th>\n      <th>feature_73</th>\n      <th>feature_74</th>\n    </tr>\n  </thead>\n  <tbody>\n    <tr>\n      <th>0</th>\n      <td>0</td>\n      <td>0</td>\n      <td>6</td>\n      <td>1</td>\n      <td>0</td>\n      <td>0</td>\n      <td>0</td>\n      <td>0</td>\n      <td>7</td>\n      <td>0</td>\n      <td>...</td>\n      <td>3</td>\n      <td>0</td>\n      <td>0</td>\n      <td>0</td>\n      <td>0</td>\n      <td>0</td>\n      <td>0</td>\n      <td>2</td>\n      <td>0</td>\n      <td>0</td>\n    </tr>\n    <tr>\n      <th>1</th>\n      <td>0</td>\n      <td>0</td>\n      <td>0</td>\n      <td>0</td>\n      <td>0</td>\n      <td>0</td>\n      <td>0</td>\n      <td>0</td>\n      <td>0</td>\n      <td>0</td>\n      <td>...</td>\n      <td>0</td>\n      <td>2</td>\n      <td>0</td>\n      <td>0</td>\n      <td>0</td>\n      <td>0</td>\n      <td>0</td>\n      <td>0</td>\n      <td>1</td>\n      <td>0</td>\n    </tr>\n    <tr>\n      <th>2</th>\n      <td>0</td>\n      <td>0</td>\n      <td>0</td>\n      <td>0</td>\n      <td>0</td>\n      <td>1</td>\n      <td>0</td>\n      <td>3</td>\n      <td>0</td>\n      <td>0</td>\n      <td>...</td>\n      <td>8</td>\n      <td>0</td>\n      <td>0</td>\n      <td>0</td>\n      <td>0</td>\n      <td>1</td>\n      <td>0</td>\n      <td>0</td>\n      <td>0</td>\n      <td>0</td>\n    </tr>\n    <tr>\n      <th>3</th>\n      <td>0</td>\n      <td>0</td>\n      <td>7</td>\n      <td>0</td>\n      <td>1</td>\n      <td>5</td>\n      <td>2</td>\n      <td>2</td>\n      <td>0</td>\n      <td>1</td>\n      <td>...</td>\n      <td>0</td>\n      <td>0</td>\n      <td>4</td>\n      <td>0</td>\n      <td>2</td>\n      <td>2</td>\n      <td>0</td>\n      <td>4</td>\n      <td>3</td>\n      <td>0</td>\n    </tr>\n    <tr>\n      <th>4</th>\n      <td>1</td>\n      <td>0</td>\n      <td>0</td>\n      <td>0</td>\n      <td>0</td>\n      <td>0</td>\n      <td>0</td>\n      <td>0</td>\n      <td>0</td>\n      <td>0</td>\n      <td>...</td>\n      <td>0</td>\n      <td>0</td>\n      <td>0</td>\n      <td>0</td>\n      <td>0</td>\n      <td>0</td>\n      <td>0</td>\n      <td>0</td>\n      <td>0</td>\n      <td>0</td>\n    </tr>\n  </tbody>\n</table>\n<p>5 rows × 75 columns</p>\n</div>"
     },
     "metadata": {},
     "execution_count": 72
    }
   ],
   "source": [
    "train_x.head()"
   ]
  },
  {
   "cell_type": "code",
   "execution_count": 73,
   "metadata": {},
   "outputs": [
    {
     "output_type": "execute_result",
     "data": {
      "text/plain": [
       "0    Class_6\n",
       "1    Class_6\n",
       "2    Class_2\n",
       "3    Class_8\n",
       "4    Class_2\n",
       "Name: target, dtype: object"
      ]
     },
     "metadata": {},
     "execution_count": 73
    }
   ],
   "source": [
    "train_y.head()"
   ]
  },
  {
   "cell_type": "code",
   "execution_count": 74,
   "metadata": {},
   "outputs": [],
   "source": [
    "##train_x, train_y = rus.fit_resample(train_x, train_y)"
   ]
  },
  {
   "cell_type": "code",
   "execution_count": 75,
   "metadata": {},
   "outputs": [],
   "source": [
    "from sklearn import preprocessing\n",
    "le = preprocessing.LabelEncoder()\n",
    "le.fit(train_y)\n",
    "train_y = le.transform(train_y)\n",
    "train_y = pd.Series(train_y)"
   ]
  },
  {
   "cell_type": "code",
   "execution_count": 76,
   "metadata": {},
   "outputs": [
    {
     "output_type": "execute_result",
     "data": {
      "text/plain": [
       "0    5\n",
       "1    5\n",
       "2    1\n",
       "3    7\n",
       "4    1\n",
       "dtype: int64"
      ]
     },
     "metadata": {},
     "execution_count": 76
    }
   ],
   "source": [
    "train_y.head()"
   ]
  },
  {
   "cell_type": "code",
   "execution_count": 77,
   "metadata": {},
   "outputs": [],
   "source": [
    "import lightgbm as lgb\n",
    "#import optuna.integration.lightgbm as lgb\n",
    "from sklearn.metrics import log_loss"
   ]
  },
  {
   "cell_type": "code",
   "execution_count": 78,
   "metadata": {},
   "outputs": [],
   "source": [
    "from sklearn.model_selection import train_test_split\n",
    "tr_x, va_x, tr_y, va_y = train_test_split(train_x, train_y, test_size=0.2, shuffle=True, random_state=42, stratify=train_y) \n",
    "\n",
    "\n",
    "params = {'objective': 'multiclass',\n",
    "                  #'random_state': 10,\n",
    "                  'metric': 'multi_logloss',\n",
    "             'num_class': 9,\n",
    "             'force_row_wise' :True}\n",
    "\n",
    "params2 = {'objective': 'multiclass',\n",
    " 'metric': 'multi_logloss',\n",
    " #'boosting_type':\"dart\",\n",
    " 'num_class': 9,\n",
    " 'force_row_wise': True,\n",
    " 'feature_pre_filter': False,\n",
    " 'lambda_l1': 9.743033661523311,\n",
    " 'lambda_l2': 2.709400532224499e-07,\n",
    " 'num_leaves': 33,\n",
    " 'feature_fraction': 0.4,\n",
    " 'bagging_fraction': 1.0,\n",
    " 'bagging_freq': 0,\n",
    " 'min_child_samples': 100,\n",
    " 'num_iterations': 50,\n",
    " 'early_stopping_round': 5}\n"
   ]
  },
  {
   "cell_type": "code",
   "execution_count": 79,
   "metadata": {},
   "outputs": [],
   "source": [
    "from sklearn.datasets import make_classification\n",
    "from sklearn.model_selection import StratifiedKFold\n",
    "from sklearn.model_selection import StratifiedShuffleSplit\n",
    "\n",
    "def imbalanced_data_split(X, y, test_size=0.2):\n",
    "    sss = StratifiedShuffleSplit(n_splits=1, test_size=0.2, random_state=0)\n",
    "    for train_index, test_index in sss.split(X, y):\n",
    "        X_train, X_test = X[train_index], X[test_index]\n",
    "        y_train, y_test = y[train_index], y[test_index]\n",
    "        return X_train, X_test, y_train, y_test"
   ]
  },
  {
   "cell_type": "code",
   "execution_count": 105,
   "metadata": {},
   "outputs": [],
   "source": [
    "from imblearn.under_sampling import RandomUnderSampler\n",
    "\n",
    "def bagging(seed):\n",
    "    lgb_train, lgb_eval = UnderSampleFunction(seed)\n",
    "    model_bagging = lgb.train(params2,\n",
    "            lgb_train,\n",
    "            verbose_eval=False,\n",
    "            early_stopping_rounds=10,\n",
    "            num_boost_round=10,\n",
    "            valid_names=['train', 'valid'], \n",
    "            valid_sets=[lgb_train, lgb_eval])\n",
    "    return model_bagging"
   ]
  },
  {
   "cell_type": "code",
   "execution_count": 81,
   "metadata": {},
   "outputs": [],
   "source": [
    "def bagging2(seed):\n",
    "    sampler = RandomUnderSampler(random_state=seed, replacement=True)\n",
    "    X_resampled, y_resampled = sampler.fit_resample(X_train, y_train)\n",
    "    X_train2, X_valid, y_train2, y_valid = imbalanced_data_split(X_resampled, y_resampled, test_size=0.2)\n",
    "    model_bagging = lgbm_train(X_train2, X_valid, y_train2, y_valid, lgbm_params)\n",
    "    return model_bagging"
   ]
  },
  {
   "cell_type": "code",
   "execution_count": 106,
   "metadata": {},
   "outputs": [
    {
     "output_type": "stream",
     "name": "stdout",
     "text": [
      "0\n",
      "[LightGBM] [Info] Total Bins 3286\n",
      "[LightGBM] [Info] Number of data points in the train set: 160000, number of used features: 75\n",
      "[LightGBM] [Info] Start training from score -3.088122\n",
      "[LightGBM] [Info] Start training from score -2.102454\n",
      "[LightGBM] [Info] Start training from score -2.603859\n",
      "[LightGBM] [Info] Start training from score -3.749957\n",
      "[LightGBM] [Info] Start training from score -4.178678\n",
      "[LightGBM] [Info] Start training from score -1.350710\n",
      "[LightGBM] [Info] Start training from score -2.605804\n",
      "[LightGBM] [Info] Start training from score -1.351627\n",
      "[LightGBM] [Info] Start training from score -2.057974\n",
      "1\n",
      "[LightGBM] [Info] Total Bins 3286\n",
      "[LightGBM] [Info] Number of data points in the train set: 160000, number of used features: 75\n",
      "[LightGBM] [Info] Start training from score -3.088122\n",
      "[LightGBM] [Info] Start training from score -2.102454\n",
      "[LightGBM] [Info] Start training from score -2.603859\n",
      "[LightGBM] [Info] Start training from score -3.749957\n",
      "[LightGBM] [Info] Start training from score -4.178678\n",
      "[LightGBM] [Info] Start training from score -1.350710\n",
      "[LightGBM] [Info] Start training from score -2.605804\n",
      "[LightGBM] [Info] Start training from score -1.351627\n",
      "[LightGBM] [Info] Start training from score -2.057974\n",
      "2\n",
      "[LightGBM] [Info] Total Bins 3286\n",
      "[LightGBM] [Info] Number of data points in the train set: 160000, number of used features: 75\n",
      "[LightGBM] [Info] Start training from score -3.088122\n",
      "[LightGBM] [Info] Start training from score -2.102454\n",
      "[LightGBM] [Info] Start training from score -2.603859\n",
      "[LightGBM] [Info] Start training from score -3.749957\n",
      "[LightGBM] [Info] Start training from score -4.178678\n",
      "[LightGBM] [Info] Start training from score -1.350710\n",
      "[LightGBM] [Info] Start training from score -2.605804\n",
      "[LightGBM] [Info] Start training from score -1.351627\n",
      "[LightGBM] [Info] Start training from score -2.057974\n",
      "3\n",
      "[LightGBM] [Info] Total Bins 3286\n",
      "[LightGBM] [Info] Number of data points in the train set: 160000, number of used features: 75\n",
      "[LightGBM] [Info] Start training from score -3.088122\n",
      "[LightGBM] [Info] Start training from score -2.102454\n",
      "[LightGBM] [Info] Start training from score -2.603859\n",
      "[LightGBM] [Info] Start training from score -3.749957\n",
      "[LightGBM] [Info] Start training from score -4.178678\n",
      "[LightGBM] [Info] Start training from score -1.350710\n",
      "[LightGBM] [Info] Start training from score -2.605804\n",
      "[LightGBM] [Info] Start training from score -1.351627\n",
      "[LightGBM] [Info] Start training from score -2.057974\n",
      "4\n",
      "[LightGBM] [Info] Total Bins 3286\n",
      "[LightGBM] [Info] Number of data points in the train set: 160000, number of used features: 75\n",
      "[LightGBM] [Info] Start training from score -3.088122\n",
      "[LightGBM] [Info] Start training from score -2.102454\n",
      "[LightGBM] [Info] Start training from score -2.603859\n",
      "[LightGBM] [Info] Start training from score -3.749957\n",
      "[LightGBM] [Info] Start training from score -4.178678\n",
      "[LightGBM] [Info] Start training from score -1.350710\n",
      "[LightGBM] [Info] Start training from score -2.605804\n",
      "[LightGBM] [Info] Start training from score -1.351627\n",
      "[LightGBM] [Info] Start training from score -2.057974\n",
      "5\n",
      "[LightGBM] [Info] Total Bins 3286\n",
      "[LightGBM] [Info] Number of data points in the train set: 160000, number of used features: 75\n",
      "[LightGBM] [Info] Start training from score -3.088122\n",
      "[LightGBM] [Info] Start training from score -2.102454\n",
      "[LightGBM] [Info] Start training from score -2.603859\n",
      "[LightGBM] [Info] Start training from score -3.749957\n",
      "[LightGBM] [Info] Start training from score -4.178678\n",
      "[LightGBM] [Info] Start training from score -1.350710\n",
      "[LightGBM] [Info] Start training from score -2.605804\n",
      "[LightGBM] [Info] Start training from score -1.351627\n",
      "[LightGBM] [Info] Start training from score -2.057974\n",
      "6\n",
      "[LightGBM] [Info] Total Bins 3286\n",
      "[LightGBM] [Info] Number of data points in the train set: 160000, number of used features: 75\n",
      "[LightGBM] [Info] Start training from score -3.088122\n",
      "[LightGBM] [Info] Start training from score -2.102454\n",
      "[LightGBM] [Info] Start training from score -2.603859\n",
      "[LightGBM] [Info] Start training from score -3.749957\n",
      "[LightGBM] [Info] Start training from score -4.178678\n",
      "[LightGBM] [Info] Start training from score -1.350710\n",
      "[LightGBM] [Info] Start training from score -2.605804\n",
      "[LightGBM] [Info] Start training from score -1.351627\n",
      "[LightGBM] [Info] Start training from score -2.057974\n",
      "7\n",
      "[LightGBM] [Info] Total Bins 3286\n",
      "[LightGBM] [Info] Number of data points in the train set: 160000, number of used features: 75\n",
      "[LightGBM] [Info] Start training from score -3.088122\n",
      "[LightGBM] [Info] Start training from score -2.102454\n",
      "[LightGBM] [Info] Start training from score -2.603859\n",
      "[LightGBM] [Info] Start training from score -3.749957\n",
      "[LightGBM] [Info] Start training from score -4.178678\n",
      "[LightGBM] [Info] Start training from score -1.350710\n",
      "[LightGBM] [Info] Start training from score -2.605804\n",
      "[LightGBM] [Info] Start training from score -1.351627\n",
      "[LightGBM] [Info] Start training from score -2.057974\n",
      "8\n",
      "[LightGBM] [Info] Total Bins 3286\n",
      "[LightGBM] [Info] Number of data points in the train set: 160000, number of used features: 75\n",
      "[LightGBM] [Info] Start training from score -3.088122\n",
      "[LightGBM] [Info] Start training from score -2.102454\n",
      "[LightGBM] [Info] Start training from score -2.603859\n",
      "[LightGBM] [Info] Start training from score -3.749957\n",
      "[LightGBM] [Info] Start training from score -4.178678\n",
      "[LightGBM] [Info] Start training from score -1.350710\n",
      "[LightGBM] [Info] Start training from score -2.605804\n",
      "[LightGBM] [Info] Start training from score -1.351627\n",
      "[LightGBM] [Info] Start training from score -2.057974\n",
      "9\n",
      "[LightGBM] [Info] Total Bins 3286\n",
      "[LightGBM] [Info] Number of data points in the train set: 160000, number of used features: 75\n",
      "[LightGBM] [Info] Start training from score -3.088122\n",
      "[LightGBM] [Info] Start training from score -2.102454\n",
      "[LightGBM] [Info] Start training from score -2.603859\n",
      "[LightGBM] [Info] Start training from score -3.749957\n",
      "[LightGBM] [Info] Start training from score -4.178678\n",
      "[LightGBM] [Info] Start training from score -1.350710\n",
      "[LightGBM] [Info] Start training from score -2.605804\n",
      "[LightGBM] [Info] Start training from score -1.351627\n",
      "[LightGBM] [Info] Start training from score -2.057974\n"
     ]
    }
   ],
   "source": [
    "models = []\n",
    "\n",
    "for i in range(10):\n",
    "    models.append(bagging(i))"
   ]
  },
  {
   "cell_type": "code",
   "execution_count": 102,
   "metadata": {
    "tags": []
   },
   "outputs": [
    {
     "output_type": "stream",
     "name": "stderr",
     "text": [
      "/Users/tokimune-i/.pyenv/versions/anaconda3-2020.11/lib/python3.8/site-packages/lightgbm/engine.py:148: UserWarning: Found `num_iterations` in params. Will use it instead of argument\n",
      "  _log_warning(\"Found `{}` in params. Will use it instead of argument\".format(alias))\n",
      "/Users/tokimune-i/.pyenv/versions/anaconda3-2020.11/lib/python3.8/site-packages/lightgbm/engine.py:153: UserWarning: Found `early_stopping_round` in params. Will use it instead of argument\n",
      "  _log_warning(\"Found `{}` in params. Will use it instead of argument\".format(alias))\n",
      "[LightGBM] [Info] Total Bins 3286\n",
      "[LightGBM] [Info] Number of data points in the train set: 160000, number of used features: 75\n",
      "[LightGBM] [Info] Start training from score -3.088122\n",
      "[LightGBM] [Info] Start training from score -2.102454\n",
      "[LightGBM] [Info] Start training from score -2.603859\n",
      "[LightGBM] [Info] Start training from score -3.749957\n",
      "[LightGBM] [Info] Start training from score -4.178678\n",
      "[LightGBM] [Info] Start training from score -1.350710\n",
      "[LightGBM] [Info] Start training from score -2.605804\n",
      "[LightGBM] [Info] Start training from score -1.351627\n",
      "[LightGBM] [Info] Start training from score -2.057974\n"
     ]
    }
   ],
   "source": [
    "best_params, history = {}, []\n",
    "# train\n",
    "pass\n",
    "model = lgb.train(params2,\n",
    "            lgb_train,\n",
    "            verbose_eval=False,\n",
    "            early_stopping_rounds=10,\n",
    "            num_boost_round=100,\n",
    "            valid_names=['train', 'valid'], \n",
    "            valid_sets=[lgb_train, lgb_eval])"
   ]
  },
  {
   "cell_type": "code",
   "execution_count": 84,
   "metadata": {},
   "outputs": [
    {
     "output_type": "stream",
     "name": "stdout",
     "text": [
      "logloss: 1.7482\n"
     ]
    }
   ],
   "source": [
    "va_pred = model.predict(va_x)\n",
    "score = log_loss(va_y, va_pred)\n",
    "print(f'logloss: {score:.4f}')"
   ]
  },
  {
   "cell_type": "code",
   "execution_count": 85,
   "metadata": {},
   "outputs": [
    {
     "output_type": "stream",
     "name": "stdout",
     "text": [
      "logloss: 1.7482\n",
      "logloss: 1.7482\n",
      "logloss: 1.7482\n",
      "logloss: 1.7482\n",
      "logloss: 1.7482\n",
      "logloss: 1.7482\n",
      "logloss: 1.7482\n",
      "logloss: 1.7482\n",
      "logloss: 1.7482\n",
      "logloss: 1.7482\n"
     ]
    }
   ],
   "source": [
    "for model in models:\n",
    "    va_pred = model.predict(va_x)\n",
    "    score = log_loss(va_y, va_pred)\n",
    "    print(f'logloss: {score:.4f}')\n"
   ]
  },
  {
   "cell_type": "code",
   "execution_count": 96,
   "metadata": {},
   "outputs": [],
   "source": [
    "pred_list = []\n",
    "for i in models:\n",
    "    j = i.predict(test_x)\n",
    "    pred_list.append(j)\n",
    "\n",
    "\n"
   ]
  },
  {
   "cell_type": "code",
   "execution_count": 98,
   "metadata": {},
   "outputs": [],
   "source": [
    "pred = np.mean(pred_list)\n",
    "pred = np.array(pred_list).mean(axis=0)"
   ]
  },
  {
   "cell_type": "code",
   "execution_count": 87,
   "metadata": {},
   "outputs": [],
   "source": [
    "#pred = model.predict(test_x)\n",
    "#pred = np.array(pred_list).mean(axis=0)"
   ]
  },
  {
   "cell_type": "code",
   "execution_count": 88,
   "metadata": {},
   "outputs": [
    {
     "output_type": "execute_result",
     "data": {
      "text/plain": [
       "{'objective': 'multiclass',\n",
       " 'metric': 'multi_logloss',\n",
       " 'num_class': 9,\n",
       " 'force_row_wise': True,\n",
       " 'feature_pre_filter': False,\n",
       " 'lambda_l1': 9.743033661523311,\n",
       " 'lambda_l2': 2.709400532224499e-07,\n",
       " 'num_leaves': 33,\n",
       " 'feature_fraction': 0.4,\n",
       " 'bagging_fraction': 1.0,\n",
       " 'bagging_freq': 0,\n",
       " 'min_child_samples': 100,\n",
       " 'num_iterations': 50,\n",
       " 'early_stopping_round': 5}"
      ]
     },
     "metadata": {},
     "execution_count": 88
    }
   ],
   "source": [
    "model.params"
   ]
  },
  {
   "cell_type": "code",
   "execution_count": 97,
   "metadata": {},
   "outputs": [
    {
     "output_type": "error",
     "ename": "ValueError",
     "evalue": "DataFrame constructor not properly called!",
     "traceback": [
      "\u001b[0;31m---------------------------------------------------------------------------\u001b[0m",
      "\u001b[0;31mValueError\u001b[0m                                Traceback (most recent call last)",
      "\u001b[0;32m<ipython-input-97-1f282c805c5b>\u001b[0m in \u001b[0;36m<module>\u001b[0;34m\u001b[0m\n\u001b[1;32m      1\u001b[0m \u001b[0msubmission\u001b[0m \u001b[0;34m=\u001b[0m \u001b[0mpd\u001b[0m\u001b[0;34m.\u001b[0m\u001b[0mDataFrame\u001b[0m\u001b[0;34m(\u001b[0m\u001b[0;34m{\u001b[0m\u001b[0;34m'id'\u001b[0m\u001b[0;34m:\u001b[0m \u001b[0mlist\u001b[0m\u001b[0;34m(\u001b[0m\u001b[0mrange\u001b[0m\u001b[0;34m(\u001b[0m\u001b[0;36m200000\u001b[0m\u001b[0;34m,\u001b[0m\u001b[0;36m300001\u001b[0m\u001b[0;34m)\u001b[0m\u001b[0;34m)\u001b[0m\u001b[0;34m}\u001b[0m\u001b[0;34m)\u001b[0m\u001b[0;34m\u001b[0m\u001b[0;34m\u001b[0m\u001b[0m\n\u001b[0;32m----> 2\u001b[0;31m \u001b[0mpred\u001b[0m \u001b[0;34m=\u001b[0m \u001b[0mpd\u001b[0m\u001b[0;34m.\u001b[0m\u001b[0mDataFrame\u001b[0m\u001b[0;34m(\u001b[0m\u001b[0mpred\u001b[0m\u001b[0;34m,\u001b[0m\u001b[0mcolumns\u001b[0m \u001b[0;34m=\u001b[0m\u001b[0;34m[\u001b[0m\u001b[0;34m\"Class_1\"\u001b[0m\u001b[0;34m,\u001b[0m\u001b[0;34m\"Class_2\"\u001b[0m\u001b[0;34m,\u001b[0m\u001b[0;34m\"Class_3\"\u001b[0m\u001b[0;34m,\u001b[0m\u001b[0;34m\"Class_4\"\u001b[0m\u001b[0;34m,\u001b[0m\u001b[0;34m\"Class_5\"\u001b[0m\u001b[0;34m,\u001b[0m\u001b[0;34m\"Class_6\"\u001b[0m\u001b[0;34m,\u001b[0m\u001b[0;34m\"Class_7\"\u001b[0m\u001b[0;34m,\u001b[0m\u001b[0;34m\"Class_8\"\u001b[0m\u001b[0;34m,\u001b[0m\u001b[0;34m\"Class_9\"\u001b[0m\u001b[0;34m]\u001b[0m\u001b[0;34m)\u001b[0m\u001b[0;34m\u001b[0m\u001b[0;34m\u001b[0m\u001b[0m\n\u001b[0m\u001b[1;32m      3\u001b[0m \u001b[0msubmission\u001b[0m \u001b[0;34m=\u001b[0m \u001b[0mpd\u001b[0m\u001b[0;34m.\u001b[0m\u001b[0mmerge\u001b[0m\u001b[0;34m(\u001b[0m\u001b[0msubmission\u001b[0m\u001b[0;34m,\u001b[0m\u001b[0mpred\u001b[0m\u001b[0;34m,\u001b[0m\u001b[0mleft_index\u001b[0m\u001b[0;34m=\u001b[0m\u001b[0;32mTrue\u001b[0m\u001b[0;34m,\u001b[0m \u001b[0mright_index\u001b[0m\u001b[0;34m=\u001b[0m\u001b[0;32mTrue\u001b[0m\u001b[0;34m)\u001b[0m\u001b[0;34m\u001b[0m\u001b[0;34m\u001b[0m\u001b[0m\n\u001b[1;32m      4\u001b[0m \u001b[0msubmission\u001b[0m\u001b[0;34m.\u001b[0m\u001b[0mto_csv\u001b[0m\u001b[0;34m(\u001b[0m\u001b[0;34m'./sample_submission.csv'\u001b[0m\u001b[0;34m,\u001b[0m \u001b[0mindex\u001b[0m\u001b[0;34m=\u001b[0m\u001b[0;32mFalse\u001b[0m\u001b[0;34m)\u001b[0m\u001b[0;34m\u001b[0m\u001b[0;34m\u001b[0m\u001b[0m\n\u001b[1;32m      5\u001b[0m \u001b[0mprint\u001b[0m\u001b[0;34m(\u001b[0m\u001b[0;34m'csv output'\u001b[0m\u001b[0;34m)\u001b[0m\u001b[0;34m\u001b[0m\u001b[0;34m\u001b[0m\u001b[0m\n",
      "\u001b[0;32m~/.pyenv/versions/anaconda3-2020.11/lib/python3.8/site-packages/pandas/core/frame.py\u001b[0m in \u001b[0;36m__init__\u001b[0;34m(self, data, index, columns, dtype, copy)\u001b[0m\n\u001b[1;32m    527\u001b[0m         \u001b[0;32melse\u001b[0m\u001b[0;34m:\u001b[0m\u001b[0;34m\u001b[0m\u001b[0;34m\u001b[0m\u001b[0m\n\u001b[1;32m    528\u001b[0m             \u001b[0;32mif\u001b[0m \u001b[0mindex\u001b[0m \u001b[0;32mis\u001b[0m \u001b[0;32mNone\u001b[0m \u001b[0;32mor\u001b[0m \u001b[0mcolumns\u001b[0m \u001b[0;32mis\u001b[0m \u001b[0;32mNone\u001b[0m\u001b[0;34m:\u001b[0m\u001b[0;34m\u001b[0m\u001b[0;34m\u001b[0m\u001b[0m\n\u001b[0;32m--> 529\u001b[0;31m                 \u001b[0;32mraise\u001b[0m \u001b[0mValueError\u001b[0m\u001b[0;34m(\u001b[0m\u001b[0;34m\"DataFrame constructor not properly called!\"\u001b[0m\u001b[0;34m)\u001b[0m\u001b[0;34m\u001b[0m\u001b[0;34m\u001b[0m\u001b[0m\n\u001b[0m\u001b[1;32m    530\u001b[0m \u001b[0;34m\u001b[0m\u001b[0m\n\u001b[1;32m    531\u001b[0m             \u001b[0;32mif\u001b[0m \u001b[0;32mnot\u001b[0m \u001b[0mdtype\u001b[0m\u001b[0;34m:\u001b[0m\u001b[0;34m\u001b[0m\u001b[0;34m\u001b[0m\u001b[0m\n",
      "\u001b[0;31mValueError\u001b[0m: DataFrame constructor not properly called!"
     ]
    }
   ],
   "source": [
    "submission = pd.DataFrame({'id': list(range(200000,300001))})\n",
    "pred = pd.DataFrame(pred,columns =[\"Class_1\",\"Class_2\",\"Class_3\",\"Class_4\",\"Class_5\",\"Class_6\",\"Class_7\",\"Class_8\",\"Class_9\"])\n",
    "submission = pd.merge(submission,pred,left_index=True, right_index=True)\n",
    "submission.to_csv('./sample_submission.csv', index=False)\n",
    "print('csv output')"
   ]
  },
  {
   "cell_type": "code",
   "execution_count": 90,
   "metadata": {},
   "outputs": [
    {
     "output_type": "execute_result",
     "data": {
      "text/plain": [
       "           feature_0      feature_1      feature_2      feature_3  \\\n",
       "count  200000.000000  200000.000000  200000.000000  200000.000000   \n",
       "mean        0.972710       1.168365       2.219325       2.296735   \n",
       "std         3.941836       3.993407       6.476570       7.551858   \n",
       "min         0.000000       0.000000       0.000000       0.000000   \n",
       "25%         0.000000       0.000000       0.000000       0.000000   \n",
       "50%         0.000000       0.000000       0.000000       0.000000   \n",
       "75%         1.000000       1.000000       1.000000       1.000000   \n",
       "max        61.000000      51.000000      64.000000      70.000000   \n",
       "\n",
       "           feature_4      feature_5      feature_6      feature_7  \\\n",
       "count  200000.000000  200000.000000  200000.000000  200000.000000   \n",
       "mean        0.793530       1.431105       1.010695       0.673090   \n",
       "std         2.935785       5.162746       3.949231       2.234949   \n",
       "min         0.000000       0.000000       0.000000       0.000000   \n",
       "25%         0.000000       0.000000       0.000000       0.000000   \n",
       "50%         0.000000       0.000000       0.000000       0.000000   \n",
       "75%         0.000000       1.000000       0.000000       0.000000   \n",
       "max        38.000000      76.000000      43.000000      30.000000   \n",
       "\n",
       "          feature_8      feature_9  ...     feature_65     feature_66  \\\n",
       "count  200000.00000  200000.000000  ...  200000.000000  200000.000000   \n",
       "mean        1.94398       1.719655  ...       1.798040       0.508695   \n",
       "std         3.93133       5.916988  ...       5.053014       1.867330   \n",
       "min         0.00000       0.000000  ...       0.000000       0.000000   \n",
       "25%         0.00000       0.000000  ...       0.000000       0.000000   \n",
       "50%         0.00000       0.000000  ...       0.000000       0.000000   \n",
       "75%         2.00000       1.000000  ...       1.000000       0.000000   \n",
       "max        38.00000      72.000000  ...      54.000000      24.000000   \n",
       "\n",
       "          feature_67     feature_68     feature_69     feature_70  \\\n",
       "count  200000.000000  200000.000000  200000.000000  200000.000000   \n",
       "mean        1.827300       0.910370       1.603585       1.219210   \n",
       "std         7.188924       3.835182       4.877679       4.826003   \n",
       "min         0.000000       0.000000       0.000000       0.000000   \n",
       "25%         0.000000       0.000000       0.000000       0.000000   \n",
       "50%         0.000000       0.000000       0.000000       0.000000   \n",
       "75%         1.000000       1.000000       2.000000       1.000000   \n",
       "max        79.000000      55.000000      65.000000      67.000000   \n",
       "\n",
       "          feature_71     feature_72    feature_73     feature_74  \n",
       "count  200000.000000  200000.000000  200000.00000  200000.000000  \n",
       "mean        0.806895       1.282925       2.94021       0.632005  \n",
       "std         2.458741       4.261420      10.78465       3.925310  \n",
       "min         0.000000       0.000000       0.00000       0.000000  \n",
       "25%         0.000000       0.000000       0.00000       0.000000  \n",
       "50%         0.000000       0.000000       0.00000       0.000000  \n",
       "75%         1.000000       1.000000       1.00000       0.000000  \n",
       "max        30.000000      61.000000     130.00000      52.000000  \n",
       "\n",
       "[8 rows x 75 columns]"
      ],
      "text/html": "<div>\n<style scoped>\n    .dataframe tbody tr th:only-of-type {\n        vertical-align: middle;\n    }\n\n    .dataframe tbody tr th {\n        vertical-align: top;\n    }\n\n    .dataframe thead th {\n        text-align: right;\n    }\n</style>\n<table border=\"1\" class=\"dataframe\">\n  <thead>\n    <tr style=\"text-align: right;\">\n      <th></th>\n      <th>feature_0</th>\n      <th>feature_1</th>\n      <th>feature_2</th>\n      <th>feature_3</th>\n      <th>feature_4</th>\n      <th>feature_5</th>\n      <th>feature_6</th>\n      <th>feature_7</th>\n      <th>feature_8</th>\n      <th>feature_9</th>\n      <th>...</th>\n      <th>feature_65</th>\n      <th>feature_66</th>\n      <th>feature_67</th>\n      <th>feature_68</th>\n      <th>feature_69</th>\n      <th>feature_70</th>\n      <th>feature_71</th>\n      <th>feature_72</th>\n      <th>feature_73</th>\n      <th>feature_74</th>\n    </tr>\n  </thead>\n  <tbody>\n    <tr>\n      <th>count</th>\n      <td>200000.000000</td>\n      <td>200000.000000</td>\n      <td>200000.000000</td>\n      <td>200000.000000</td>\n      <td>200000.000000</td>\n      <td>200000.000000</td>\n      <td>200000.000000</td>\n      <td>200000.000000</td>\n      <td>200000.00000</td>\n      <td>200000.000000</td>\n      <td>...</td>\n      <td>200000.000000</td>\n      <td>200000.000000</td>\n      <td>200000.000000</td>\n      <td>200000.000000</td>\n      <td>200000.000000</td>\n      <td>200000.000000</td>\n      <td>200000.000000</td>\n      <td>200000.000000</td>\n      <td>200000.00000</td>\n      <td>200000.000000</td>\n    </tr>\n    <tr>\n      <th>mean</th>\n      <td>0.972710</td>\n      <td>1.168365</td>\n      <td>2.219325</td>\n      <td>2.296735</td>\n      <td>0.793530</td>\n      <td>1.431105</td>\n      <td>1.010695</td>\n      <td>0.673090</td>\n      <td>1.94398</td>\n      <td>1.719655</td>\n      <td>...</td>\n      <td>1.798040</td>\n      <td>0.508695</td>\n      <td>1.827300</td>\n      <td>0.910370</td>\n      <td>1.603585</td>\n      <td>1.219210</td>\n      <td>0.806895</td>\n      <td>1.282925</td>\n      <td>2.94021</td>\n      <td>0.632005</td>\n    </tr>\n    <tr>\n      <th>std</th>\n      <td>3.941836</td>\n      <td>3.993407</td>\n      <td>6.476570</td>\n      <td>7.551858</td>\n      <td>2.935785</td>\n      <td>5.162746</td>\n      <td>3.949231</td>\n      <td>2.234949</td>\n      <td>3.93133</td>\n      <td>5.916988</td>\n      <td>...</td>\n      <td>5.053014</td>\n      <td>1.867330</td>\n      <td>7.188924</td>\n      <td>3.835182</td>\n      <td>4.877679</td>\n      <td>4.826003</td>\n      <td>2.458741</td>\n      <td>4.261420</td>\n      <td>10.78465</td>\n      <td>3.925310</td>\n    </tr>\n    <tr>\n      <th>min</th>\n      <td>0.000000</td>\n      <td>0.000000</td>\n      <td>0.000000</td>\n      <td>0.000000</td>\n      <td>0.000000</td>\n      <td>0.000000</td>\n      <td>0.000000</td>\n      <td>0.000000</td>\n      <td>0.00000</td>\n      <td>0.000000</td>\n      <td>...</td>\n      <td>0.000000</td>\n      <td>0.000000</td>\n      <td>0.000000</td>\n      <td>0.000000</td>\n      <td>0.000000</td>\n      <td>0.000000</td>\n      <td>0.000000</td>\n      <td>0.000000</td>\n      <td>0.00000</td>\n      <td>0.000000</td>\n    </tr>\n    <tr>\n      <th>25%</th>\n      <td>0.000000</td>\n      <td>0.000000</td>\n      <td>0.000000</td>\n      <td>0.000000</td>\n      <td>0.000000</td>\n      <td>0.000000</td>\n      <td>0.000000</td>\n      <td>0.000000</td>\n      <td>0.00000</td>\n      <td>0.000000</td>\n      <td>...</td>\n      <td>0.000000</td>\n      <td>0.000000</td>\n      <td>0.000000</td>\n      <td>0.000000</td>\n      <td>0.000000</td>\n      <td>0.000000</td>\n      <td>0.000000</td>\n      <td>0.000000</td>\n      <td>0.00000</td>\n      <td>0.000000</td>\n    </tr>\n    <tr>\n      <th>50%</th>\n      <td>0.000000</td>\n      <td>0.000000</td>\n      <td>0.000000</td>\n      <td>0.000000</td>\n      <td>0.000000</td>\n      <td>0.000000</td>\n      <td>0.000000</td>\n      <td>0.000000</td>\n      <td>0.00000</td>\n      <td>0.000000</td>\n      <td>...</td>\n      <td>0.000000</td>\n      <td>0.000000</td>\n      <td>0.000000</td>\n      <td>0.000000</td>\n      <td>0.000000</td>\n      <td>0.000000</td>\n      <td>0.000000</td>\n      <td>0.000000</td>\n      <td>0.00000</td>\n      <td>0.000000</td>\n    </tr>\n    <tr>\n      <th>75%</th>\n      <td>1.000000</td>\n      <td>1.000000</td>\n      <td>1.000000</td>\n      <td>1.000000</td>\n      <td>0.000000</td>\n      <td>1.000000</td>\n      <td>0.000000</td>\n      <td>0.000000</td>\n      <td>2.00000</td>\n      <td>1.000000</td>\n      <td>...</td>\n      <td>1.000000</td>\n      <td>0.000000</td>\n      <td>1.000000</td>\n      <td>1.000000</td>\n      <td>2.000000</td>\n      <td>1.000000</td>\n      <td>1.000000</td>\n      <td>1.000000</td>\n      <td>1.00000</td>\n      <td>0.000000</td>\n    </tr>\n    <tr>\n      <th>max</th>\n      <td>61.000000</td>\n      <td>51.000000</td>\n      <td>64.000000</td>\n      <td>70.000000</td>\n      <td>38.000000</td>\n      <td>76.000000</td>\n      <td>43.000000</td>\n      <td>30.000000</td>\n      <td>38.00000</td>\n      <td>72.000000</td>\n      <td>...</td>\n      <td>54.000000</td>\n      <td>24.000000</td>\n      <td>79.000000</td>\n      <td>55.000000</td>\n      <td>65.000000</td>\n      <td>67.000000</td>\n      <td>30.000000</td>\n      <td>61.000000</td>\n      <td>130.00000</td>\n      <td>52.000000</td>\n    </tr>\n  </tbody>\n</table>\n<p>8 rows × 75 columns</p>\n</div>"
     },
     "metadata": {},
     "execution_count": 90
    }
   ],
   "source": [
    "train.describe()"
   ]
  },
  {
   "cell_type": "code",
   "execution_count": 91,
   "metadata": {},
   "outputs": [
    {
     "output_type": "execute_result",
     "data": {
      "text/plain": [
       "0     146389\n",
       "1      24536\n",
       "2      10197\n",
       "3       6651\n",
       "4       3580\n",
       "5       3079\n",
       "6       1751\n",
       "7        671\n",
       "8        349\n",
       "34       144\n",
       "29       140\n",
       "20       130\n",
       "40       129\n",
       "32       113\n",
       "61       110\n",
       "9        106\n",
       "37       102\n",
       "56       100\n",
       "42        95\n",
       "47        88\n",
       "27        87\n",
       "12        87\n",
       "48        83\n",
       "24        81\n",
       "39        78\n",
       "31        76\n",
       "15        76\n",
       "30        73\n",
       "10        71\n",
       "21        70\n",
       "16        70\n",
       "22        68\n",
       "14        67\n",
       "43        66\n",
       "25        66\n",
       "19        64\n",
       "11        63\n",
       "28        63\n",
       "13        63\n",
       "17        57\n",
       "26        56\n",
       "23        55\n",
       "Name: feature_0, dtype: int64"
      ]
     },
     "metadata": {},
     "execution_count": 91
    }
   ],
   "source": [
    "train['feature_0'].value_counts()"
   ]
  },
  {
   "cell_type": "code",
   "execution_count": 92,
   "metadata": {},
   "outputs": [
    {
     "output_type": "execute_result",
     "data": {
      "text/plain": [
       "5    51811\n",
       "7    51763\n",
       "8    25542\n",
       "1    24431\n",
       "2    14798\n",
       "6    14769\n",
       "0     9118\n",
       "3     4704\n",
       "4     3064\n",
       "dtype: int64"
      ]
     },
     "metadata": {},
     "execution_count": 92
    }
   ],
   "source": [
    "train_y.value_counts()"
   ]
  },
  {
   "cell_type": "code",
   "execution_count": 93,
   "metadata": {},
   "outputs": [
    {
     "output_type": "execute_result",
     "data": {
      "text/plain": [
       "5    51811\n",
       "7    51763\n",
       "8    25542\n",
       "1    24431\n",
       "2    14798\n",
       "6    14769\n",
       "0     9118\n",
       "3     4704\n",
       "4     3064\n",
       "dtype: int64"
      ]
     },
     "metadata": {},
     "execution_count": 93
    }
   ],
   "source": [
    "train_y.value_counts()"
   ]
  }
 ],
 "metadata": {
  "kernelspec": {
   "name": "python385jvsc74a57bd0b8c7b7f772b24e9fa09ee0d2f7d053124da7a68f5f2ccab04a54851d092ebd61",
   "display_name": "Python 3.8.5 64-bit ('anaconda3-2020.11': pyenv)"
  },
  "language_info": {
   "codemirror_mode": {
    "name": "ipython",
    "version": 3
   },
   "file_extension": ".py",
   "mimetype": "text/x-python",
   "name": "python",
   "nbconvert_exporter": "python",
   "pygments_lexer": "ipython3",
   "version": "3.8.5"
  }
 },
 "nbformat": 4,
 "nbformat_minor": 4
}